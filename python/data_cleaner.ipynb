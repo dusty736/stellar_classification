{
 "cells": [
  {
   "cell_type": "markdown",
   "id": "1b689372-ec4f-4cab-a799-c24f675d113f",
   "metadata": {},
   "source": [
    "# Kaggle Dataset\n",
    "\n",
    "Download data from the following source, and add it to the data folder:\n",
    "https://www.kaggle.com/datasets/fedesoriano/stellar-classification-dataset-sdss17"
   ]
  },
  {
   "cell_type": "code",
   "execution_count": 13,
   "id": "4e8b6deb-4f47-4b1b-baee-9469c690e80e",
   "metadata": {},
   "outputs": [],
   "source": [
    "# Load Libraries\n",
    "from pathlib import Path\n",
    "import sys\n",
    "import os\n",
    "import numpy as np\n",
    "import pandas as pd\n",
    "from sklearn.decomposition import TruncatedSVD\n",
    "from sklearn.model_selection import train_test_split"
   ]
  },
  {
   "cell_type": "code",
   "execution_count": 25,
   "id": "b5dba911-785e-4a7b-aa61-b86413d85134",
   "metadata": {},
   "outputs": [],
   "source": [
    "# Set working directory\n",
    "os.chdir(os.path.join(sys.path[0], \"..\"))\n",
    "\n",
    "# Create processed data folder\n",
    "data_folder = os.path.join(\".\", \"data\")\n",
    "processed_folder = os.path.join(\".\", \"data\", \"processed\")\n",
    "\n",
    "if not os.path.exists(processed_folder):\n",
    "    os.makedirs(processed_folder)"
   ]
  },
  {
   "cell_type": "code",
   "execution_count": 50,
   "id": "fa8a9d22-65b2-4b5c-9834-62c4da1198c6",
   "metadata": {},
   "outputs": [],
   "source": [
    "# Create folder for star data\n",
    "star_folder = os.path.join(\".\", \"data\", \"processed\", \"stars\")\n",
    "\n",
    "if not os.path.exists(star_folder):\n",
    "    os.makedirs(star_folder)\n",
    "    \n",
    "# Read in star data\n",
    "star_raw_path = os.path.join(data_folder, \"raw\", \"star_classification.csv\")\n",
    "star_data = pd.read_csv(star_raw_path).query('`class` == \"STAR\"')\n",
    "\n",
    "# Separate stars\n",
    "star_data.to_csv(os.path.join(star_folder, \"stars.csv\"))"
   ]
  },
  {
   "cell_type": "code",
   "execution_count": 51,
   "id": "0dc2226a-2839-45ab-842b-e5c8612a2354",
   "metadata": {},
   "outputs": [],
   "source": [
    "# Create folder for qso data\n",
    "qso_folder = os.path.join(\".\", \"data\", \"processed\", \"qso\")\n",
    "\n",
    "if not os.path.exists(qso_folder):\n",
    "    os.makedirs(qso_folder)\n",
    "    \n",
    "# Read in qso data\n",
    "qso_raw_path = os.path.join(data_folder, \"raw\", \"star_classification.csv\")\n",
    "qso_data = pd.read_csv(qso_raw_path).query('`class` == \"QSO\"')\n",
    "\n",
    "# Separate qso\n",
    "qso_data.to_csv(os.path.join(qso_folder, \"qso.csv\"))"
   ]
  },
  {
   "cell_type": "code",
   "execution_count": 52,
   "id": "43fd6369-d72b-4d47-ae67-6dff539afb40",
   "metadata": {},
   "outputs": [],
   "source": [
    "# Create folder for galaxy data\n",
    "galaxy_folder = os.path.join(\".\", \"data\", \"processed\", \"galaxy\")\n",
    "\n",
    "if not os.path.exists(galaxy_folder):\n",
    "    os.makedirs(galaxy_folder)\n",
    "    \n",
    "# Read in galaxy data\n",
    "galaxy_raw_path = os.path.join(data_folder, \"raw\", \"star_classification.csv\")\n",
    "galaxy_data = pd.read_csv(galaxy_raw_path).query('`class` == \"GALAXY\"')\n",
    "\n",
    "# Separate galaxy\n",
    "galaxy_data.to_csv(os.path.join(galaxy_folder, \"galaxy.csv\"))"
   ]
  },
  {
   "cell_type": "code",
   "execution_count": 54,
   "id": "80bcadcc-d618-4746-a4f1-14915024af0f",
   "metadata": {},
   "outputs": [
    {
     "name": "stderr",
     "output_type": "stream",
     "text": [
      "/var/folders/xs/9jzktm9106l0bx0xw3ppdtfw0000gn/T/ipykernel_61309/2395648748.py:20: SettingWithCopyWarning: \n",
      "A value is trying to be set on a copy of a slice from a DataFrame.\n",
      "Try using .loc[row_indexer,col_indexer] = value instead\n",
      "\n",
      "See the caveats in the documentation: https://pandas.pydata.org/pandas-docs/stable/user_guide/indexing.html#returning-a-view-versus-a-copy\n",
      "  training_data['class'] = y_train\n",
      "/var/folders/xs/9jzktm9106l0bx0xw3ppdtfw0000gn/T/ipykernel_61309/2395648748.py:23: SettingWithCopyWarning: \n",
      "A value is trying to be set on a copy of a slice from a DataFrame.\n",
      "Try using .loc[row_indexer,col_indexer] = value instead\n",
      "\n",
      "See the caveats in the documentation: https://pandas.pydata.org/pandas-docs/stable/user_guide/indexing.html#returning-a-view-versus-a-copy\n",
      "  test_data['class'] = y_valid\n"
     ]
    }
   ],
   "source": [
    "# Create folder for all data\n",
    "total_folder = os.path.join(\".\", \"data\", \"processed\", \"total\")\n",
    "\n",
    "if not os.path.exists(total_folder):\n",
    "    os.makedirs(total_folder)\n",
    "    \n",
    "# Read in galaxy data\n",
    "total_raw_path = os.path.join(data_folder, \"raw\", \"star_classification.csv\")\n",
    "total_data = pd.read_csv(total_raw_path)\n",
    "                         \n",
    "# Separate into train test\n",
    "X = total_data.drop('class', axis=1)\n",
    "y = total_data['class']\n",
    "\n",
    "X_train, X_valid, y_train, y_valid = train_test_split(\n",
    "    X, y, test_size=0.2, random_state=42\n",
    ")\n",
    "\n",
    "training_data = X_train\n",
    "training_data['class'] = y_train\n",
    "\n",
    "test_data = X_valid\n",
    "test_data['class'] = y_valid\n",
    "\n",
    "# Separate train and test\n",
    "training_data.to_csv(os.path.join(total_folder, \"train.csv\"))\n",
    "test_data.to_csv(os.path.join(total_folder, \"test.csv\"))"
   ]
  },
  {
   "cell_type": "markdown",
   "id": "ed9027c8-6b18-41cf-80b7-a5c19e009887",
   "metadata": {},
   "source": [
    "# Galaxy Zoo Data\n",
    "\n",
    "Go to the [SDSS website](http://skyserver.sdss.org/dr17/SearchTools/SQL/#) and run the following SQL query to download community classified galaxies.\n",
    "\n",
    "```sql\n",
    "SELECT\n",
    "objid, nvote,\n",
    "p_el as elliptical,\n",
    "p_cw as spiralclock, p_acw as spiralanticlock, \n",
    "p_edge as edgeon,\n",
    "p_dk as dontknow, p_mg as merger\n",
    "FROM ZooNoSpec\n",
    "```\n",
    "\n",
    "The data contains a galaxy identifier, the number of votes, and the percentage for each classification."
   ]
  },
  {
   "cell_type": "code",
   "execution_count": 83,
   "id": "e4dfcba8-bbe6-440c-ac84-b1014d03ef3a",
   "metadata": {},
   "outputs": [],
   "source": [
    "# Read in galaxy data\n",
    "gz = pd.read_csv(os.path.join(data_folder, \"raw\", \"galaxy_zoo_classifications.csv\"), skiprows=1)\n",
    "\n",
    "# Define classification types\n",
    "classifications = ['elliptical', 'spiralclock', 'spiralanticlock', 'edgeon', 'dontknow', 'merger']\n",
    "\n",
    "# Get value classification certainty\n",
    "gz = gz.assign(certainty=gz[classifications].max(axis=1))\n",
    "\n",
    "# Select max classification certainty\n",
    "gz = gz.assign(classification= np.select([gz.certainty == gz.elliptical,\n",
    "                                       gz.certainty == gz.spiralclock,\n",
    "                                       gz.certainty == gz.spiralanticlock,\n",
    "                                       gz.certainty == gz.edgeon,\n",
    "                                       gz.certainty == gz.dontknow,\n",
    "                                       gz.certainty == gz.merger], \n",
    "                                      ['elliptical',\n",
    "                                       'spiralclock',\n",
    "                                       'spiralanticlock',\n",
    "                                       'edgeon',\n",
    "                                       'dontknow',\n",
    "                                       'merger'], 'other'))\n",
    "\n",
    "# Select columns\n",
    "gz = gz[['objid', 'certainty', 'classification']]\n",
    "\n",
    "# Save data\n",
    "gz.to_csv(os.path.join(galaxy_folder, \"galaxy_zoo_classifications.csv\"))"
   ]
  },
  {
   "cell_type": "code",
   "execution_count": 88,
   "id": "5aebf6a9-343f-4e9a-87e3-3ceecd7bac43",
   "metadata": {},
   "outputs": [
    {
     "name": "stderr",
     "output_type": "stream",
     "text": [
      "/var/folders/xs/9jzktm9106l0bx0xw3ppdtfw0000gn/T/ipykernel_61309/2317771368.py:10: SettingWithCopyWarning: \n",
      "A value is trying to be set on a copy of a slice from a DataFrame.\n",
      "Try using .loc[row_indexer,col_indexer] = value instead\n",
      "\n",
      "See the caveats in the documentation: https://pandas.pydata.org/pandas-docs/stable/user_guide/indexing.html#returning-a-view-versus-a-copy\n",
      "  training_data['class'] = y_train\n",
      "/var/folders/xs/9jzktm9106l0bx0xw3ppdtfw0000gn/T/ipykernel_61309/2317771368.py:13: SettingWithCopyWarning: \n",
      "A value is trying to be set on a copy of a slice from a DataFrame.\n",
      "Try using .loc[row_indexer,col_indexer] = value instead\n",
      "\n",
      "See the caveats in the documentation: https://pandas.pydata.org/pandas-docs/stable/user_guide/indexing.html#returning-a-view-versus-a-copy\n",
      "  test_data['class'] = y_valid\n"
     ]
    }
   ],
   "source": [
    "# Separate into train test\n",
    "X = gz.drop('classification', axis=1)\n",
    "y = gz['classification']\n",
    "\n",
    "X_train, X_valid, y_train, y_valid = train_test_split(\n",
    "    X, y, test_size=0.2, random_state=42\n",
    ")\n",
    "\n",
    "training_data = X_train\n",
    "training_data['class'] = y_train\n",
    "\n",
    "test_data = X_valid\n",
    "test_data['class'] = y_valid\n",
    "\n",
    "# Separate train and test\n",
    "training_data.to_csv(os.path.join(galaxy_folder, \"galaxy_train.csv\"))\n",
    "test_data.to_csv(os.path.join(galaxy_folder, \"galaxy_test.csv\"))"
   ]
  }
 ],
 "metadata": {
  "kernelspec": {
   "display_name": "Python 3 (ipykernel)",
   "language": "python",
   "name": "python3"
  },
  "language_info": {
   "codemirror_mode": {
    "name": "ipython",
    "version": 3
   },
   "file_extension": ".py",
   "mimetype": "text/x-python",
   "name": "python",
   "nbconvert_exporter": "python",
   "pygments_lexer": "ipython3",
   "version": "3.8.13"
  }
 },
 "nbformat": 4,
 "nbformat_minor": 5
}
