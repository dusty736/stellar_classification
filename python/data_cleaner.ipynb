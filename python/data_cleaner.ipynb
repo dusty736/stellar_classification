{
 "cells": [
  {
   "cell_type": "code",
   "execution_count": 13,
   "id": "4e8b6deb-4f47-4b1b-baee-9469c690e80e",
   "metadata": {},
   "outputs": [],
   "source": [
    "# Load Libraries\n",
    "from pathlib import Path\n",
    "import sys\n",
    "import os\n",
    "import numpy as np\n",
    "import pandas as pd\n",
    "from sklearn.decomposition import TruncatedSVD\n",
    "from sklearn.model_selection import train_test_split"
   ]
  },
  {
   "cell_type": "code",
   "execution_count": 25,
   "id": "b5dba911-785e-4a7b-aa61-b86413d85134",
   "metadata": {},
   "outputs": [],
   "source": [
    "# Set working directory\n",
    "os.chdir(os.path.join(sys.path[0], \"..\"))\n",
    "\n",
    "# Create processed data folder\n",
    "data_folder = os.path.join(\".\", \"data\")\n",
    "processed_folder = os.path.join(\".\", \"data\", \"processed\")\n",
    "\n",
    "if not os.path.exists(processed_folder):\n",
    "    os.makedirs(processed_folder)"
   ]
  },
  {
   "cell_type": "code",
   "execution_count": 50,
   "id": "fa8a9d22-65b2-4b5c-9834-62c4da1198c6",
   "metadata": {},
   "outputs": [],
   "source": [
    "# Create folder for star data\n",
    "star_folder = os.path.join(\".\", \"data\", \"processed\", \"stars\")\n",
    "\n",
    "if not os.path.exists(star_folder):\n",
    "    os.makedirs(star_folder)\n",
    "    \n",
    "# Read in star data\n",
    "star_raw_path = os.path.join(data_folder, \"raw\", \"star_classification.csv\")\n",
    "star_data = pd.read_csv(star_raw_path).query('`class` == \"STAR\"')\n",
    "\n",
    "# Separate stars\n",
    "star_data.to_csv(os.path.join(star_folder, \"stars.csv\"))"
   ]
  },
  {
   "cell_type": "code",
   "execution_count": 51,
   "id": "0dc2226a-2839-45ab-842b-e5c8612a2354",
   "metadata": {},
   "outputs": [],
   "source": [
    "# Create folder for qso data\n",
    "qso_folder = os.path.join(\".\", \"data\", \"processed\", \"qso\")\n",
    "\n",
    "if not os.path.exists(qso_folder):\n",
    "    os.makedirs(qso_folder)\n",
    "    \n",
    "# Read in qso data\n",
    "qso_raw_path = os.path.join(data_folder, \"raw\", \"star_classification.csv\")\n",
    "qso_data = pd.read_csv(qso_raw_path).query('`class` == \"QSO\"')\n",
    "\n",
    "# Separate qso\n",
    "qso_data.to_csv(os.path.join(qso_folder, \"qso.csv\"))"
   ]
  },
  {
   "cell_type": "code",
   "execution_count": 52,
   "id": "43fd6369-d72b-4d47-ae67-6dff539afb40",
   "metadata": {},
   "outputs": [],
   "source": [
    "# Create folder for galaxy data\n",
    "galaxy_folder = os.path.join(\".\", \"data\", \"processed\", \"galaxy\")\n",
    "\n",
    "if not os.path.exists(galaxy_folder):\n",
    "    os.makedirs(galaxy_folder)\n",
    "    \n",
    "# Read in galaxy data\n",
    "galaxy_raw_path = os.path.join(data_folder, \"raw\", \"star_classification.csv\")\n",
    "galaxy_data = pd.read_csv(galaxy_raw_path).query('`class` == \"GALAXY\"')\n",
    "\n",
    "# Separate galaxy\n",
    "galaxy_data.to_csv(os.path.join(galaxy_folder, \"galaxy.csv\"))"
   ]
  },
  {
   "cell_type": "code",
   "execution_count": 19,
   "id": "80bcadcc-d618-4746-a4f1-14915024af0f",
   "metadata": {},
   "outputs": [
    {
     "data": {
      "text/plain": [
       "'/Users/dusty/Desktop/projects/astronomy/stellar_classification'"
      ]
     },
     "execution_count": 19,
     "metadata": {},
     "output_type": "execute_result"
    }
   ],
   "source": [
    "# Create folder for all data\n",
    "total_folder = os.path.join(\".\", \"data\", \"processed\", \"total\")\n",
    "\n",
    "if not os.path.exists(total_folder):\n",
    "    os.makedirs(total_folder)\n",
    "    \n",
    "# Read in galaxy data\n",
    "total_raw_path = os.path.join(data_folder, \"raw\", \"star_classification.csv\")\n",
    "total_data = pd.read_csv(total_raw_path)\n",
    "                         \n",
    "# Separate into train test\n",
    "X = total_data.drop('class', axis=1)\n",
    "y = total_data['class']\n",
    "\n",
    "X_train, X_valid, y_train, y_valid = train_test_split(\n",
    "    X, y, test_size=0.2, random_state=42\n",
    ")\n",
    "\n",
    "training_data = X_train\n",
    "\n",
    "# Separate galaxy\n",
    "galaxy_data.to_csv(os.path.join(total_folder, \"train.csv\"))"
   ]
  },
  {
   "cell_type": "code",
   "execution_count": null,
   "id": "21c3d0e3-c7cf-4641-9921-b8b889dc990a",
   "metadata": {},
   "outputs": [],
   "source": [
    "# Separate QSO Data"
   ]
  },
  {
   "cell_type": "code",
   "execution_count": null,
   "id": "c7837cc6-f4a9-4f06-a9b5-920adf60e63b",
   "metadata": {},
   "outputs": [],
   "source": [
    "# Separate Galaxy Data"
   ]
  }
 ],
 "metadata": {
  "kernelspec": {
   "display_name": "Python 3 (ipykernel)",
   "language": "python",
   "name": "python3"
  },
  "language_info": {
   "codemirror_mode": {
    "name": "ipython",
    "version": 3
   },
   "file_extension": ".py",
   "mimetype": "text/x-python",
   "name": "python",
   "nbconvert_exporter": "python",
   "pygments_lexer": "ipython3",
   "version": "3.8.13"
  }
 },
 "nbformat": 4,
 "nbformat_minor": 5
}
